{
  "nbformat": 4,
  "nbformat_minor": 0,
  "metadata": {
    "colab": {
      "provenance": []
    },
    "kernelspec": {
      "name": "python3",
      "display_name": "Python 3"
    },
    "language_info": {
      "name": "python"
    }
  },
  "cells": [
    {
      "cell_type": "markdown",
      "source": [
        "#MARKET BASKET ANAYSIS\n"
      ],
      "metadata": {
        "id": "Ii0-5JKgxvjf"
      }
    },
    {
      "cell_type": "markdown",
      "source": [
        "#DATA LOADING"
      ],
      "metadata": {
        "id": "s7T6E84umb1-"
      }
    },
    {
      "cell_type": "code",
      "execution_count": null,
      "metadata": {
        "colab": {
          "base_uri": "https://localhost:8080/"
        },
        "id": "vX-eiri7f37p",
        "outputId": "e950657a-4625-44e4-e560-74b261fe898e"
      },
      "outputs": [
        {
          "output_type": "stream",
          "name": "stdout",
          "text": [
            "Collecting pyspark\n",
            "  Downloading pyspark-3.5.0.tar.gz (316.9 MB)\n",
            "\u001b[2K     \u001b[90m━━━━━━━━━━━━━━━━━━━━━━━━━━━━━━━━━━━━━━━━\u001b[0m \u001b[32m316.9/316.9 MB\u001b[0m \u001b[31m2.3 MB/s\u001b[0m eta \u001b[36m0:00:00\u001b[0m\n",
            "\u001b[?25h  Preparing metadata (setup.py) ... \u001b[?25l\u001b[?25hdone\n",
            "Requirement already satisfied: py4j==0.10.9.7 in /usr/local/lib/python3.10/dist-packages (from pyspark) (0.10.9.7)\n",
            "Building wheels for collected packages: pyspark\n",
            "  Building wheel for pyspark (setup.py) ... \u001b[?25l\u001b[?25hdone\n",
            "  Created wheel for pyspark: filename=pyspark-3.5.0-py2.py3-none-any.whl size=317425344 sha256=929426aaaac74bfdd6b86a2bbffb4213e58c82f92690e706ebbac3ded8b660db\n",
            "  Stored in directory: /root/.cache/pip/wheels/41/4e/10/c2cf2467f71c678cfc8a6b9ac9241e5e44a01940da8fbb17fc\n",
            "Successfully built pyspark\n",
            "Installing collected packages: pyspark\n",
            "Successfully installed pyspark-3.5.0\n"
          ]
        }
      ],
      "source": [
        "!pip install pyspark"
      ]
    },
    {
      "cell_type": "code",
      "source": [
        "import pandas as pd\n",
        "from pyspark.sql import SparkSession\n",
        "spark = SparkSession.builder.appName(\"MarketBasketAnalysis\").getOrCreate()"
      ],
      "metadata": {
        "id": "Wf3_GbeMnj9H"
      },
      "execution_count": null,
      "outputs": []
    },
    {
      "cell_type": "code",
      "source": [
        "df_1 = spark.read.csv(\"/content/2010-2011-1.csv\",header=True,inferSchema=True)\n",
        "df_2 = spark.read.csv(\"/content/2009-2010-1.csv\",header=True,inferSchema=True)"
      ],
      "metadata": {
        "id": "5QMo5QgXf9no"
      },
      "execution_count": null,
      "outputs": []
    },
    {
      "cell_type": "code",
      "source": [
        "df_1.show()"
      ],
      "metadata": {
        "id": "xrwpapezncFA",
        "colab": {
          "base_uri": "https://localhost:8080/"
        },
        "outputId": "5bd16bfa-7a02-49a4-e1cc-e1f2771f4af7"
      },
      "execution_count": null,
      "outputs": [
        {
          "output_type": "stream",
          "name": "stdout",
          "text": [
            "+-------+---------+--------------------+--------+----------------+-----+-----------+--------------+\n",
            "|Invoice|StockCode|         Description|Quantity|     InvoiceDate|Price|Customer ID|       Country|\n",
            "+-------+---------+--------------------+--------+----------------+-----+-----------+--------------+\n",
            "| 536365|   85123A|WHITE HANGING HEA...|       6|01-12-2010 08:26| 2.55|      17850|United Kingdom|\n",
            "| 536365|    71053| WHITE METAL LANTERN|       6|01-12-2010 08:26| 3.39|      17850|United Kingdom|\n",
            "| 536365|   84406B|CREAM CUPID HEART...|       8|01-12-2010 08:26| 2.75|      17850|United Kingdom|\n",
            "| 536365|   84029G|KNITTED UNION FLA...|       6|01-12-2010 08:26| 3.39|      17850|United Kingdom|\n",
            "| 536365|   84029E|RED WOOLLY HOTTIE...|       6|01-12-2010 08:26| 3.39|      17850|United Kingdom|\n",
            "| 536365|    22752|SET 7 BABUSHKA NE...|       2|01-12-2010 08:26| 7.65|      17850|United Kingdom|\n",
            "| 536365|    21730|GLASS STAR FROSTE...|       6|01-12-2010 08:26| 4.25|      17850|United Kingdom|\n",
            "| 536366|    22633|HAND WARMER UNION...|       6|01-12-2010 08:28| 1.85|      17850|United Kingdom|\n",
            "| 536366|    22632|HAND WARMER RED P...|       6|01-12-2010 08:28| 1.85|      17850|United Kingdom|\n",
            "| 536368|    22960|JAM MAKING SET WI...|       6|01-12-2010 08:34| 4.25|      13047|United Kingdom|\n",
            "| 536368|    22913|RED COAT RACK PAR...|       3|01-12-2010 08:34| 4.95|      13047|United Kingdom|\n",
            "| 536368|    22912|YELLOW COAT RACK ...|       3|01-12-2010 08:34| 4.95|      13047|United Kingdom|\n",
            "| 536368|    22914|BLUE COAT RACK PA...|       3|01-12-2010 08:34| 4.95|      13047|United Kingdom|\n",
            "| 536367|    84879|ASSORTED COLOUR B...|      32|01-12-2010 08:34| 1.69|      13047|United Kingdom|\n",
            "| 536367|    22745|POPPY'S PLAYHOUSE...|       6|01-12-2010 08:34|  2.1|      13047|United Kingdom|\n",
            "| 536367|    22748|POPPY'S PLAYHOUSE...|       6|01-12-2010 08:34|  2.1|      13047|United Kingdom|\n",
            "| 536367|    22749|FELTCRAFT PRINCES...|       8|01-12-2010 08:34| 3.75|      13047|United Kingdom|\n",
            "| 536367|    22310|IVORY KNITTED MUG...|       6|01-12-2010 08:34| 1.65|      13047|United Kingdom|\n",
            "| 536367|    84969|BOX OF 6 ASSORTED...|       6|01-12-2010 08:34| 4.25|      13047|United Kingdom|\n",
            "| 536367|    22623|BOX OF VINTAGE JI...|       3|01-12-2010 08:34| 4.95|      13047|United Kingdom|\n",
            "+-------+---------+--------------------+--------+----------------+-----+-----------+--------------+\n",
            "only showing top 20 rows\n",
            "\n"
          ]
        }
      ]
    },
    {
      "cell_type": "code",
      "source": [
        "df_2.show()"
      ],
      "metadata": {
        "id": "sMCdVOzrniDM",
        "colab": {
          "base_uri": "https://localhost:8080/"
        },
        "outputId": "8b8ebd3b-31e6-4ac6-e1d0-474d466ae43d"
      },
      "execution_count": null,
      "outputs": [
        {
          "output_type": "stream",
          "name": "stdout",
          "text": [
            "+-------+---------+--------------------+--------+----------------+-----+-----------+--------------+\n",
            "|Invoice|StockCode|         Description|Quantity|     InvoiceDate|Price|Customer ID|       Country|\n",
            "+-------+---------+--------------------+--------+----------------+-----+-----------+--------------+\n",
            "| 489434|    85048|15CM CHRISTMAS GL...|      12|01-12-2009 07:45| 6.95|      13085|United Kingdom|\n",
            "| 489434|   79323P|  PINK CHERRY LIGHTS|      12|01-12-2009 07:45| 6.75|      13085|United Kingdom|\n",
            "| 489434|   79323W| WHITE CHERRY LIGHTS|      12|01-12-2009 07:45| 6.75|      13085|United Kingdom|\n",
            "| 489434|    22041|\"RECORD FRAME 7\"\"...|      48|01-12-2009 07:45|  2.1|      13085|United Kingdom|\n",
            "| 489434|    21232|STRAWBERRY CERAMI...|      24|01-12-2009 07:45| 1.25|      13085|United Kingdom|\n",
            "| 489434|    22064|PINK DOUGHNUT TRI...|      24|01-12-2009 07:45| 1.65|      13085|United Kingdom|\n",
            "| 489434|    21871| SAVE THE PLANET MUG|      24|01-12-2009 07:45| 1.25|      13085|United Kingdom|\n",
            "| 489434|    21523|FANCY FONT HOME S...|      10|01-12-2009 07:45| 5.95|      13085|United Kingdom|\n",
            "| 489435|    22350|           CAT BOWL |      12|01-12-2009 07:46| 2.55|      13085|United Kingdom|\n",
            "| 489435|    22349|DOG BOWL , CHASIN...|      12|01-12-2009 07:46| 3.75|      13085|United Kingdom|\n",
            "| 489435|    22195|HEART MEASURING S...|      24|01-12-2009 07:46| 1.65|      13085|United Kingdom|\n",
            "| 489435|    22353|LUNCHBOX WITH CUT...|      12|01-12-2009 07:46| 2.55|      13085|United Kingdom|\n",
            "| 489436|   48173C|DOOR MAT BLACK FL...|      10|01-12-2009 09:06| 5.95|      13078|United Kingdom|\n",
            "| 489436|    21755|LOVE BUILDING BLO...|      18|01-12-2009 09:06| 5.45|      13078|United Kingdom|\n",
            "| 489436|    21754|HOME BUILDING BLO...|       3|01-12-2009 09:06| 5.95|      13078|United Kingdom|\n",
            "| 489436|    84879|ASSORTED COLOUR B...|      16|01-12-2009 09:06| 1.69|      13078|United Kingdom|\n",
            "| 489436|    22119| PEACE WOODEN BLO...|       3|01-12-2009 09:06| 6.95|      13078|United Kingdom|\n",
            "| 489436|    22142|CHRISTMAS CRAFT W...|      12|01-12-2009 09:06| 1.45|      13078|United Kingdom|\n",
            "| 489436|    22296|HEART IVORY TRELL...|      12|01-12-2009 09:06| 1.65|      13078|United Kingdom|\n",
            "| 489436|    22295|HEART FILIGREE DO...|      12|01-12-2009 09:06| 1.65|      13078|United Kingdom|\n",
            "+-------+---------+--------------------+--------+----------------+-----+-----------+--------------+\n",
            "only showing top 20 rows\n",
            "\n"
          ]
        }
      ]
    },
    {
      "cell_type": "markdown",
      "source": [
        "#PREPROCESSING  \n",
        "\n",
        "\n",
        "DATA EXPLORATION"
      ],
      "metadata": {
        "id": "x2F2mtAxoO5A"
      }
    },
    {
      "cell_type": "code",
      "source": [
        "df_1.describe().show()"
      ],
      "metadata": {
        "id": "MSUEm_jdpOqf",
        "colab": {
          "base_uri": "https://localhost:8080/"
        },
        "outputId": "9c094d7a-3963-4c82-ddeb-7772d300a50d"
      },
      "execution_count": null,
      "outputs": [
        {
          "output_type": "stream",
          "name": "stdout",
          "text": [
            "+-------+------------------+------------------+--------------------+------------------+----------------+-----------------+------------------+-----------+\n",
            "|summary|           Invoice|         StockCode|         Description|          Quantity|     InvoiceDate|            Price|       Customer ID|    Country|\n",
            "+-------+------------------+------------------+--------------------+------------------+----------------+-----------------+------------------+-----------+\n",
            "|  count|            541910|            541910|              540456|            541910|          541910|           541910|            406830|     541910|\n",
            "|   mean| 559965.7926209917|27623.240210938104|             20713.0| 9.552233765754462|            NULL|4.611138332927965|15287.684160460143|       NULL|\n",
            "| stddev|13428.437355340984| 16799.73762842774|                NULL|218.08095694392543|            NULL|96.75976549366548|1713.6030743514768|       NULL|\n",
            "|    min|            536365|             10002| 4 PURPLE FLOCK D...|            -80995|01-02-2011 08:23|        -11062.06|             12346|  Australia|\n",
            "|    max|           C581569|                 m|   wrongly sold sets|             80995|31-10-2011 17:19|          38970.0|             18287|Unspecified|\n",
            "+-------+------------------+------------------+--------------------+------------------+----------------+-----------------+------------------+-----------+\n",
            "\n"
          ]
        }
      ]
    },
    {
      "cell_type": "code",
      "source": [
        "df_2.describe().show()"
      ],
      "metadata": {
        "id": "JjFdY_6RpWmZ",
        "colab": {
          "base_uri": "https://localhost:8080/"
        },
        "outputId": "7d398360-adc8-4551-e9ee-7ca896d070e1"
      },
      "execution_count": null,
      "outputs": [
        {
          "output_type": "stream",
          "name": "stdout",
          "text": [
            "+-------+------------------+-----------------+--------------------+------------------+----------------+-----------------+------------------+-----------+\n",
            "|summary|           Invoice|        StockCode|         Description|          Quantity|     InvoiceDate|            Price|       Customer ID|    Country|\n",
            "+-------+------------------+-----------------+--------------------+------------------+----------------+-----------------+------------------+-----------+\n",
            "|  count|            525461|           525461|              522533|            525461|          525461|           525461|            417534|     525461|\n",
            "|   mean| 514496.9241788484|30518.37992495103|  22226.666666666668|10.337667305470815|            NULL| 4.68883447867188|15360.645477973052|       NULL|\n",
            "| stddev|14439.209494472732|20693.16815285475|   646.8974674037095|107.42411026879805|            NULL|146.1269139529275|1680.8113157457294|       NULL|\n",
            "|    min|            489434|            10002|  DOORMAT UNION J...|             -9600|01-02-2010 08:13|        -53594.36|             12346|  Australia|\n",
            "|    max|           C538164|                m|          wrong invc|             19152|31-10-2010 16:26|         25111.09|             18287|West Indies|\n",
            "+-------+------------------+-----------------+--------------------+------------------+----------------+-----------------+------------------+-----------+\n",
            "\n"
          ]
        }
      ]
    },
    {
      "cell_type": "code",
      "source": [
        "df_1.dtypes"
      ],
      "metadata": {
        "id": "jUjSqF7DroTV",
        "colab": {
          "base_uri": "https://localhost:8080/"
        },
        "outputId": "7b2ba337-4b7b-48c2-8e29-b664b980ed4a"
      },
      "execution_count": null,
      "outputs": [
        {
          "output_type": "execute_result",
          "data": {
            "text/plain": [
              "[('Invoice', 'string'),\n",
              " ('StockCode', 'string'),\n",
              " ('Description', 'string'),\n",
              " ('Quantity', 'int'),\n",
              " ('InvoiceDate', 'string'),\n",
              " ('Price', 'double'),\n",
              " ('Customer ID', 'int'),\n",
              " ('Country', 'string')]"
            ]
          },
          "metadata": {},
          "execution_count": 14
        }
      ]
    },
    {
      "cell_type": "code",
      "source": [
        "df_2.dtypes"
      ],
      "metadata": {
        "id": "IjqD2oocrqdj",
        "colab": {
          "base_uri": "https://localhost:8080/"
        },
        "outputId": "7196c3f0-34d9-4c35-e9eb-27fa9f5ce807"
      },
      "execution_count": null,
      "outputs": [
        {
          "output_type": "execute_result",
          "data": {
            "text/plain": [
              "[('Invoice', 'string'),\n",
              " ('StockCode', 'string'),\n",
              " ('Description', 'string'),\n",
              " ('Quantity', 'int'),\n",
              " ('InvoiceDate', 'string'),\n",
              " ('Price', 'double'),\n",
              " ('Customer ID', 'int'),\n",
              " ('Country', 'string')]"
            ]
          },
          "metadata": {},
          "execution_count": 15
        }
      ]
    },
    {
      "cell_type": "markdown",
      "source": [
        "Attribute Information:\n",
        "\n",
        "InvoiceNo: Invoice number. Nominal. A 6-digit integral number uniquely assigned to each transaction. If this code starts with the letter 'c', it indicates a cancellation.\n",
        "\n",
        "\n",
        "StockCode: Product (item) code. Nominal. A 5-digit integral number uniquely assigned to each distinct product.\n",
        "\n",
        "\n",
        "Description: Product (item) name. Nominal.\n",
        "Quantity: The quantities of each product (item) per transaction. Numeric.\n",
        "InvoiceDate: Invice date and time. Numeric. The day and time when a transaction was generated.\n",
        "\n",
        "\n",
        "UnitPrice: Unit price. Numeric. Product price per unit in sterling (Â£).\n",
        "\n",
        "\n",
        "CustomerID: Customer number. Nominal. A 5-digit integral number uniquely assigned to each customer.\n",
        "\n",
        "\n",
        "Country: Country name. Nominal. The name of the country where a customer resides."
      ],
      "metadata": {
        "id": "7gvgHkBqvl-K"
      }
    },
    {
      "cell_type": "markdown",
      "source": [
        "COLUMN RENAME"
      ],
      "metadata": {
        "id": "YJm8RHSNu6Nh"
      }
    },
    {
      "cell_type": "code",
      "source": [
        "df_1.columns"
      ],
      "metadata": {
        "id": "V8JsoIfnu-wE",
        "colab": {
          "base_uri": "https://localhost:8080/"
        },
        "outputId": "fea30b73-df4d-402d-d45d-db9fe1eb8def"
      },
      "execution_count": null,
      "outputs": [
        {
          "output_type": "execute_result",
          "data": {
            "text/plain": [
              "['Invoice',\n",
              " 'StockCode',\n",
              " 'Description',\n",
              " 'Quantity',\n",
              " 'InvoiceDate',\n",
              " 'Price',\n",
              " 'Customer ID',\n",
              " 'Country']"
            ]
          },
          "metadata": {},
          "execution_count": 16
        }
      ]
    },
    {
      "cell_type": "code",
      "source": [
        "df_2.columns"
      ],
      "metadata": {
        "id": "xXkfvk47vHjO",
        "colab": {
          "base_uri": "https://localhost:8080/"
        },
        "outputId": "9422cb91-fa8e-4daa-fa8c-624eee2ed843"
      },
      "execution_count": null,
      "outputs": [
        {
          "output_type": "execute_result",
          "data": {
            "text/plain": [
              "['Invoice',\n",
              " 'StockCode',\n",
              " 'Description',\n",
              " 'Quantity',\n",
              " 'InvoiceDate',\n",
              " 'Price',\n",
              " 'Customer ID',\n",
              " 'Country']"
            ]
          },
          "metadata": {},
          "execution_count": 17
        }
      ]
    },
    {
      "cell_type": "code",
      "source": [
        "df_1 = df_1.withColumnRenamed(\"Invoice\",\"transaction_id\")\n",
        "df_1 = df_1.withColumnRenamed(\"StockCode\",\"product_id\")\n",
        "df_1 = df_1.withColumnRenamed(\"Description\",\"product_name\")\n",
        "df_1 = df_1.withColumnRenamed(\"Quantity\",\"quantity\")\n",
        "df_1 = df_1.withColumnRenamed(\"InvoiceDate\",\"transaction_date\")\n",
        "df_1 = df_1.withColumnRenamed(\"Price\",\"price\")\n",
        "df_1 = df_1.withColumnRenamed(\"Customer ID\",\"customer_id\")\n",
        "df_1 = df_1.withColumnRenamed(\"Country\",\"country\")"
      ],
      "metadata": {
        "id": "aua55TAovK2y"
      },
      "execution_count": null,
      "outputs": []
    },
    {
      "cell_type": "code",
      "source": [
        "df_1.columns"
      ],
      "metadata": {
        "id": "t3kms5grvMI_",
        "colab": {
          "base_uri": "https://localhost:8080/"
        },
        "outputId": "3a210a3e-fe17-4968-bf33-87017fe023d9"
      },
      "execution_count": null,
      "outputs": [
        {
          "output_type": "execute_result",
          "data": {
            "text/plain": [
              "['transaction_id',\n",
              " 'product_id',\n",
              " 'product_name',\n",
              " 'quantity',\n",
              " 'transaction_date',\n",
              " 'price',\n",
              " 'customer_id',\n",
              " 'country']"
            ]
          },
          "metadata": {},
          "execution_count": 19
        }
      ]
    },
    {
      "cell_type": "code",
      "source": [
        "df_2 = df_2.withColumnRenamed(\"Invoice\",\"transaction_id\")\n",
        "df_2 = df_2.withColumnRenamed(\"StockCode\",\"product_id\")\n",
        "df_2 = df_2.withColumnRenamed(\"Description\",\"product_name\")\n",
        "df_2 = df_2.withColumnRenamed(\"Quantity\",\"quantity\")\n",
        "df_2 = df_2.withColumnRenamed(\"InvoiceDate\",\"transaction_date\")\n",
        "df_2 = df_2.withColumnRenamed(\"Price\",\"price\")\n",
        "df_2 = df_2.withColumnRenamed(\"Customer ID\",\"customer_id\")\n",
        "df_2 = df_2.withColumnRenamed(\"Country\",\"country\")"
      ],
      "metadata": {
        "id": "8clvs8XQxlYy"
      },
      "execution_count": null,
      "outputs": []
    },
    {
      "cell_type": "code",
      "source": [
        "df_2.columns"
      ],
      "metadata": {
        "id": "A3oPQKI0vNQo",
        "colab": {
          "base_uri": "https://localhost:8080/"
        },
        "outputId": "57094366-cbdf-4a17-eaa4-8a8c1e675e65"
      },
      "execution_count": null,
      "outputs": [
        {
          "output_type": "execute_result",
          "data": {
            "text/plain": [
              "['transaction_id',\n",
              " 'product_id',\n",
              " 'product_name',\n",
              " 'quantity',\n",
              " 'transaction_date',\n",
              " 'price',\n",
              " 'customer_id',\n",
              " 'country']"
            ]
          },
          "metadata": {},
          "execution_count": 21
        }
      ]
    },
    {
      "cell_type": "markdown",
      "source": [
        "DEALING WITH NULL VALUES"
      ],
      "metadata": {
        "id": "3FBXsEo7pPMj"
      }
    },
    {
      "cell_type": "code",
      "source": [
        "print((df_1.count(), len(df_1.columns)))"
      ],
      "metadata": {
        "id": "5OVvbUXb0_6K",
        "colab": {
          "base_uri": "https://localhost:8080/"
        },
        "outputId": "76a17590-867b-4836-9ff6-dec6182f01b3"
      },
      "execution_count": null,
      "outputs": [
        {
          "output_type": "stream",
          "name": "stdout",
          "text": [
            "(541910, 8)\n"
          ]
        }
      ]
    },
    {
      "cell_type": "code",
      "source": [
        "df_1 = df_1.dropna()"
      ],
      "metadata": {
        "id": "EpTocc0KKJdw"
      },
      "execution_count": null,
      "outputs": []
    },
    {
      "cell_type": "code",
      "source": [
        "print((df_1.count(), len(df_1.columns)))"
      ],
      "metadata": {
        "id": "VYMcMwViKGKk",
        "colab": {
          "base_uri": "https://localhost:8080/"
        },
        "outputId": "4eb75478-577c-4f82-a77a-bf3a0296cbb8"
      },
      "execution_count": null,
      "outputs": [
        {
          "output_type": "stream",
          "name": "stdout",
          "text": [
            "(406830, 8)\n"
          ]
        }
      ]
    },
    {
      "cell_type": "code",
      "source": [
        "print((df_2.count(), len(df_2.columns)))"
      ],
      "metadata": {
        "id": "FXaWzeCVJ7lu",
        "colab": {
          "base_uri": "https://localhost:8080/"
        },
        "outputId": "e99239eb-7215-482e-c737-402b999c57b4"
      },
      "execution_count": null,
      "outputs": [
        {
          "output_type": "stream",
          "name": "stdout",
          "text": [
            "(525461, 8)\n"
          ]
        }
      ]
    },
    {
      "cell_type": "code",
      "source": [
        "df_2 = df_2.dropna()"
      ],
      "metadata": {
        "id": "yEmMlqZYKUMU"
      },
      "execution_count": null,
      "outputs": []
    },
    {
      "cell_type": "code",
      "source": [
        "print((df_2.count(), len(df_2.columns)))"
      ],
      "metadata": {
        "id": "z85z00xt1DcJ",
        "colab": {
          "base_uri": "https://localhost:8080/"
        },
        "outputId": "dab3c84b-2a4d-4dbc-eafa-3a0cc3d19c9b"
      },
      "execution_count": null,
      "outputs": [
        {
          "output_type": "stream",
          "name": "stdout",
          "text": [
            "(417534, 8)\n"
          ]
        }
      ]
    },
    {
      "cell_type": "markdown",
      "source": [
        "REMOVING DUPLICATES\n"
      ],
      "metadata": {
        "id": "bfBHX4t9oXHd"
      }
    },
    {
      "cell_type": "code",
      "source": [
        "print((df_1.count(), len(df_1.columns)))"
      ],
      "metadata": {
        "id": "nrKfDZADZUpY",
        "colab": {
          "base_uri": "https://localhost:8080/"
        },
        "outputId": "5bfdaa2c-6a47-4c6f-863c-fab7e0a436f8"
      },
      "execution_count": null,
      "outputs": [
        {
          "output_type": "stream",
          "name": "stdout",
          "text": [
            "(406830, 8)\n"
          ]
        }
      ]
    },
    {
      "cell_type": "code",
      "source": [
        "df_1 = df_1.dropDuplicates()"
      ],
      "metadata": {
        "id": "BAbGiKbVK-NT"
      },
      "execution_count": null,
      "outputs": []
    },
    {
      "cell_type": "code",
      "source": [
        "print((df_1.count(), len(df_1.columns)))"
      ],
      "metadata": {
        "id": "WCbEI-jYrMJu",
        "colab": {
          "base_uri": "https://localhost:8080/"
        },
        "outputId": "623c140e-a3a4-43af-c094-5ec1662f086b"
      },
      "execution_count": null,
      "outputs": [
        {
          "output_type": "stream",
          "name": "stdout",
          "text": [
            "(401605, 8)\n"
          ]
        }
      ]
    },
    {
      "cell_type": "code",
      "source": [
        "print((df_2.count(), len(df_2.columns)))"
      ],
      "metadata": {
        "id": "_Ic8kODmZXnq",
        "outputId": "31a86d49-4e49-407e-aed5-a6d9e971f28e",
        "colab": {
          "base_uri": "https://localhost:8080/"
        }
      },
      "execution_count": null,
      "outputs": [
        {
          "output_type": "stream",
          "name": "stdout",
          "text": [
            "(417534, 8)\n"
          ]
        }
      ]
    },
    {
      "cell_type": "code",
      "source": [
        "df_2 = df_2.dropDuplicates()"
      ],
      "metadata": {
        "id": "tc-tpEh1ogUt"
      },
      "execution_count": null,
      "outputs": []
    },
    {
      "cell_type": "code",
      "source": [
        "print((df_2.count(), len(df_2.columns)))"
      ],
      "metadata": {
        "id": "UGPtuibmojOL",
        "outputId": "b6436de5-f9dd-4ded-f990-a9ce7db1a44f",
        "colab": {
          "base_uri": "https://localhost:8080/"
        }
      },
      "execution_count": null,
      "outputs": [
        {
          "output_type": "stream",
          "name": "stdout",
          "text": [
            "(410763, 8)\n"
          ]
        }
      ]
    },
    {
      "cell_type": "markdown",
      "source": [
        "IN Column 'Transation id' removing rows staring with 'C' SINCE they are cancelled order"
      ],
      "metadata": {
        "id": "glZbpgDI2pcv"
      }
    },
    {
      "cell_type": "code",
      "source": [
        "from pyspark.sql.functions import col"
      ],
      "metadata": {
        "id": "-GVlVvyiLp3i"
      },
      "execution_count": null,
      "outputs": []
    },
    {
      "cell_type": "code",
      "source": [
        "df_1 = df_1.filter(~col(\"transaction_id\").startswith(\"C\"))\n",
        "df_1.show()"
      ],
      "metadata": {
        "id": "1YKOlO1IFHtd",
        "outputId": "912178c2-af13-4264-aba5-b67a5dbb55cb",
        "colab": {
          "base_uri": "https://localhost:8080/"
        }
      },
      "execution_count": null,
      "outputs": [
        {
          "output_type": "stream",
          "name": "stdout",
          "text": [
            "+--------------+----------+--------------------+--------+----------------+-----+-----------+--------------+\n",
            "|transaction_id|product_id|        product_name|quantity|transaction_date|price|customer_id|       country|\n",
            "+--------------+----------+--------------------+--------+----------------+-----+-----------+--------------+\n",
            "|        536381|     22411|JUMBO SHOPPER VIN...|      10|01-12-2010 09:41| 1.95|      15311|United Kingdom|\n",
            "|        536392|     22827|RUSTIC  SEVENTEEN...|       1|01-12-2010 10:29|165.0|      13705|United Kingdom|\n",
            "|        536401|     21592|RETROSPOT CIGAR B...|       1|01-12-2010 11:21| 1.25|      15862|United Kingdom|\n",
            "|        536464|     22988|   SOLDIERS EGG CUP |       1|01-12-2010 12:23| 1.25|      17968|United Kingdom|\n",
            "|        536464|     22910|PAPER CHAIN KIT V...|       1|01-12-2010 12:23| 2.95|      17968|United Kingdom|\n",
            "|        536488|     20878|SET/9 CHRISTMAS T...|       2|01-12-2010 12:31| 1.25|      17897|United Kingdom|\n",
            "|        536500|     22712|    CARD DOLLY GIRL |      12|01-12-2010 12:35| 0.42|      17377|United Kingdom|\n",
            "|        536522|     84969|BOX OF 6 ASSORTED...|       1|01-12-2010 12:49| 4.25|      15012|United Kingdom|\n",
            "|        536569|     22640|SET OF 4 NAPKIN C...|       1|01-12-2010 15:35| 2.55|      16274|United Kingdom|\n",
            "|        536597|     20726|  LUNCH BAG WOODLAND|       1|01-12-2010 17:35| 1.65|      18011|United Kingdom|\n",
            "|        536608|     22863|  SOAP DISH BROCANTE|       6|02-12-2010 09:37| 2.95|      12855|United Kingdom|\n",
            "|        536618|     22440|BALLOON WATER BOM...|      40|02-12-2010 10:17| 0.42|      17017|United Kingdom|\n",
            "|        536620|     22744|MAKE YOUR OWN MON...|       6|02-12-2010 10:27| 2.95|      14135|United Kingdom|\n",
            "|        536672|     21288|STRIPEY CHOCOLATE...|       6|02-12-2010 12:10| 2.95|      14491|United Kingdom|\n",
            "|        536674|     20832|RED FLOCK LOVE HE...|       4|02-12-2010 12:16| 0.85|      15923|United Kingdom|\n",
            "|        536741|     22652|   TRAVEL SEWING KIT|      10|02-12-2010 13:11| 1.65|      13117|United Kingdom|\n",
            "|        536749|    90195B|BLACK GEMSTONE BR...|       1|02-12-2010 13:49| 8.95|      17976|United Kingdom|\n",
            "|        536796|     22557|PLASTERS IN TIN V...|       1|02-12-2010 15:46| 1.65|      15574|United Kingdom|\n",
            "|        536830|     84077|WORLD WAR 2 GLIDE...|    2880|02-12-2010 17:38| 0.18|      16754|United Kingdom|\n",
            "|        536841|     22077|6 RIBBONS RUSTIC ...|      12|02-12-2010 18:27| 1.65|      16150|United Kingdom|\n",
            "+--------------+----------+--------------------+--------+----------------+-----+-----------+--------------+\n",
            "only showing top 20 rows\n",
            "\n"
          ]
        }
      ]
    },
    {
      "cell_type": "code",
      "source": [
        "print((df_1.count(), len(df_1.columns)))"
      ],
      "metadata": {
        "id": "WqEghGAILwe_",
        "outputId": "22539c40-dca5-42c8-ac64-9d226d66ead9",
        "colab": {
          "base_uri": "https://localhost:8080/"
        }
      },
      "execution_count": null,
      "outputs": [
        {
          "output_type": "stream",
          "name": "stdout",
          "text": [
            "(392733, 8)\n"
          ]
        }
      ]
    },
    {
      "cell_type": "code",
      "source": [
        "df_2 = df_2.filter(~col(\"transaction_id\").startswith(\"C\"))\n",
        "df_2.show()"
      ],
      "metadata": {
        "id": "yml29D7NF7zC",
        "colab": {
          "base_uri": "https://localhost:8080/"
        },
        "outputId": "36e3a4e8-b081-4822-f3ab-cf49d04aee56"
      },
      "execution_count": null,
      "outputs": [
        {
          "output_type": "stream",
          "name": "stdout",
          "text": [
            "+--------------+----------+--------------------+--------+----------------+-----+-----------+--------------+\n",
            "|transaction_id|product_id|        product_name|quantity|transaction_date|price|customer_id|       country|\n",
            "+--------------+----------+--------------------+--------+----------------+-----+-----------+--------------+\n",
            "|        489436|     21756|BATH BUILDING BLO...|       3|01-12-2009 09:06| 5.95|      13078|United Kingdom|\n",
            "|        489438|    84519A|TOMATO CHARLIE+LO...|      56|01-12-2009 09:24| 2.15|      18102|United Kingdom|\n",
            "|        489446|     22199|FRYING PAN RED PO...|       4|01-12-2009 10:06| 4.25|      13758|United Kingdom|\n",
            "|        489520|     22083|PAPER CHAIN KIT R...|       6|01-12-2009 11:41| 2.95|      14911|          EIRE|\n",
            "|        489522|     21133|PAINTED BIRD ASSO...|       6|01-12-2009 11:45| 1.69|      15998|United Kingdom|\n",
            "|        489529|     21500|   PINK SPOTS  WRAP |      25|01-12-2009 11:51| 0.42|      17984|United Kingdom|\n",
            "|        489545|     22113|GREY HEART HOT WA...|       1|01-12-2009 12:22| 3.45|      17804|United Kingdom|\n",
            "|        489571|     20975|12 PENCILS SMALL ...|       1|01-12-2009 13:29| 0.65|      15967|United Kingdom|\n",
            "|        489572|    85014B|RED/WHITE DOTS RU...|       1|01-12-2009 13:29| 5.95|      17611|United Kingdom|\n",
            "|        489573|     21754|HOME BUILDING BLO...|       5|01-12-2009 13:29| 5.95|      15051|United Kingdom|\n",
            "|        489573|     22070|SMALL RETRO SPOT ...|       4|01-12-2009 13:29| 3.75|      15051|United Kingdom|\n",
            "|        489575|     21232|STRAWBERRY CERAMI...|      12|01-12-2009 13:37| 1.25|      13590|United Kingdom|\n",
            "|        489579|     84854| GIRLY PINK TOOL SET|       1|01-12-2009 13:41| 4.95|      16887|United Kingdom|\n",
            "|        489579|     21034|REX CASH+CARRY JU...|       1|01-12-2009 13:41| 0.95|      16887|United Kingdom|\n",
            "|        489590|     22086|PAPER CHAIN KIT 5...|       2|01-12-2009 14:14| 2.95|      13110|United Kingdom|\n",
            "|        489593|     21257|VICTORIAN SEWING ...|       2|01-12-2009 14:19| 7.95|      12836|United Kingdom|\n",
            "|        489654|    84508A|CAMOFLAGE DESIGN ...|       2|01-12-2009 17:19| 2.55|      15750|United Kingdom|\n",
            "|        489787|     21166|COOK WITH WINE ME...|       1|02-12-2009 11:53| 1.95|      15542|United Kingdom|\n",
            "|        489797|    47566B|TEA TIME PARTY BU...|       2|02-12-2009 12:19| 4.65|      15581|United Kingdom|\n",
            "|        489802|     84692|BOX OF 24 COCKTAI...|       1|02-12-2009 12:32| 0.42|      15581|United Kingdom|\n",
            "+--------------+----------+--------------------+--------+----------------+-----+-----------+--------------+\n",
            "only showing top 20 rows\n",
            "\n"
          ]
        }
      ]
    },
    {
      "cell_type": "code",
      "source": [
        "print((df_2.count(), len(df_2.columns)))"
      ],
      "metadata": {
        "id": "aRYzMec4Mc2E",
        "colab": {
          "base_uri": "https://localhost:8080/"
        },
        "outputId": "08e45f08-edf6-4580-c8b9-13dc80cd489f"
      },
      "execution_count": null,
      "outputs": [
        {
          "output_type": "stream",
          "name": "stdout",
          "text": [
            "(400947, 8)\n"
          ]
        }
      ]
    },
    {
      "cell_type": "markdown",
      "source": [
        "converting column 'TRANSACTION_ID' to INT"
      ],
      "metadata": {
        "id": "pUO8b-Gc2y7z"
      }
    },
    {
      "cell_type": "code",
      "source": [
        "df_1 = df_1.withColumn(\"transaction_id\", df_1[\"transaction_id\"].cast(\"int\"))\n",
        "df_1.show()"
      ],
      "metadata": {
        "id": "3anoH-8hF_U1",
        "colab": {
          "base_uri": "https://localhost:8080/"
        },
        "outputId": "2bad86e1-0305-48e5-9e15-e34cbaf990ef"
      },
      "execution_count": null,
      "outputs": [
        {
          "output_type": "stream",
          "name": "stdout",
          "text": [
            "+--------------+----------+--------------------+--------+----------------+-----+-----------+--------------+\n",
            "|transaction_id|product_id|        product_name|quantity|transaction_date|price|customer_id|       country|\n",
            "+--------------+----------+--------------------+--------+----------------+-----+-----------+--------------+\n",
            "|        536381|     22411|JUMBO SHOPPER VIN...|      10|01-12-2010 09:41| 1.95|      15311|United Kingdom|\n",
            "|        536392|     22827|RUSTIC  SEVENTEEN...|       1|01-12-2010 10:29|165.0|      13705|United Kingdom|\n",
            "|        536401|     21592|RETROSPOT CIGAR B...|       1|01-12-2010 11:21| 1.25|      15862|United Kingdom|\n",
            "|        536464|     22988|   SOLDIERS EGG CUP |       1|01-12-2010 12:23| 1.25|      17968|United Kingdom|\n",
            "|        536464|     22910|PAPER CHAIN KIT V...|       1|01-12-2010 12:23| 2.95|      17968|United Kingdom|\n",
            "|        536488|     20878|SET/9 CHRISTMAS T...|       2|01-12-2010 12:31| 1.25|      17897|United Kingdom|\n",
            "|        536500|     22712|    CARD DOLLY GIRL |      12|01-12-2010 12:35| 0.42|      17377|United Kingdom|\n",
            "|        536522|     84969|BOX OF 6 ASSORTED...|       1|01-12-2010 12:49| 4.25|      15012|United Kingdom|\n",
            "|        536569|     22640|SET OF 4 NAPKIN C...|       1|01-12-2010 15:35| 2.55|      16274|United Kingdom|\n",
            "|        536597|     20726|  LUNCH BAG WOODLAND|       1|01-12-2010 17:35| 1.65|      18011|United Kingdom|\n",
            "|        536608|     22863|  SOAP DISH BROCANTE|       6|02-12-2010 09:37| 2.95|      12855|United Kingdom|\n",
            "|        536618|     22440|BALLOON WATER BOM...|      40|02-12-2010 10:17| 0.42|      17017|United Kingdom|\n",
            "|        536620|     22744|MAKE YOUR OWN MON...|       6|02-12-2010 10:27| 2.95|      14135|United Kingdom|\n",
            "|        536672|     21288|STRIPEY CHOCOLATE...|       6|02-12-2010 12:10| 2.95|      14491|United Kingdom|\n",
            "|        536674|     20832|RED FLOCK LOVE HE...|       4|02-12-2010 12:16| 0.85|      15923|United Kingdom|\n",
            "|        536741|     22652|   TRAVEL SEWING KIT|      10|02-12-2010 13:11| 1.65|      13117|United Kingdom|\n",
            "|        536749|    90195B|BLACK GEMSTONE BR...|       1|02-12-2010 13:49| 8.95|      17976|United Kingdom|\n",
            "|        536796|     22557|PLASTERS IN TIN V...|       1|02-12-2010 15:46| 1.65|      15574|United Kingdom|\n",
            "|        536830|     84077|WORLD WAR 2 GLIDE...|    2880|02-12-2010 17:38| 0.18|      16754|United Kingdom|\n",
            "|        536841|     22077|6 RIBBONS RUSTIC ...|      12|02-12-2010 18:27| 1.65|      16150|United Kingdom|\n",
            "+--------------+----------+--------------------+--------+----------------+-----+-----------+--------------+\n",
            "only showing top 20 rows\n",
            "\n"
          ]
        }
      ]
    },
    {
      "cell_type": "code",
      "source": [
        "df_1.dtypes"
      ],
      "metadata": {
        "id": "h6ujB9zjM-VF",
        "colab": {
          "base_uri": "https://localhost:8080/"
        },
        "outputId": "94bae569-76ab-453c-8a90-470dad22780e"
      },
      "execution_count": null,
      "outputs": [
        {
          "output_type": "execute_result",
          "data": {
            "text/plain": [
              "[('transaction_id', 'int'),\n",
              " ('product_id', 'string'),\n",
              " ('product_name', 'string'),\n",
              " ('quantity', 'int'),\n",
              " ('transaction_date', 'string'),\n",
              " ('price', 'double'),\n",
              " ('customer_id', 'int'),\n",
              " ('country', 'string')]"
            ]
          },
          "metadata": {},
          "execution_count": 40
        }
      ]
    },
    {
      "cell_type": "code",
      "source": [
        "df_2 = df_2.withColumn(\"transaction_id\", df_2[\"transaction_id\"].cast(\"int\"))\n",
        "df_2.show()"
      ],
      "metadata": {
        "id": "3nVQb4AZGb_F",
        "colab": {
          "base_uri": "https://localhost:8080/"
        },
        "outputId": "65b0a276-ff75-44de-8590-525eaeb5975c"
      },
      "execution_count": null,
      "outputs": [
        {
          "output_type": "stream",
          "name": "stdout",
          "text": [
            "+--------------+----------+--------------------+--------+----------------+-----+-----------+--------------+\n",
            "|transaction_id|product_id|        product_name|quantity|transaction_date|price|customer_id|       country|\n",
            "+--------------+----------+--------------------+--------+----------------+-----+-----------+--------------+\n",
            "|        489436|     21756|BATH BUILDING BLO...|       3|01-12-2009 09:06| 5.95|      13078|United Kingdom|\n",
            "|        489438|    84519A|TOMATO CHARLIE+LO...|      56|01-12-2009 09:24| 2.15|      18102|United Kingdom|\n",
            "|        489446|     22199|FRYING PAN RED PO...|       4|01-12-2009 10:06| 4.25|      13758|United Kingdom|\n",
            "|        489520|     22083|PAPER CHAIN KIT R...|       6|01-12-2009 11:41| 2.95|      14911|          EIRE|\n",
            "|        489522|     21133|PAINTED BIRD ASSO...|       6|01-12-2009 11:45| 1.69|      15998|United Kingdom|\n",
            "|        489529|     21500|   PINK SPOTS  WRAP |      25|01-12-2009 11:51| 0.42|      17984|United Kingdom|\n",
            "|        489545|     22113|GREY HEART HOT WA...|       1|01-12-2009 12:22| 3.45|      17804|United Kingdom|\n",
            "|        489571|     20975|12 PENCILS SMALL ...|       1|01-12-2009 13:29| 0.65|      15967|United Kingdom|\n",
            "|        489572|    85014B|RED/WHITE DOTS RU...|       1|01-12-2009 13:29| 5.95|      17611|United Kingdom|\n",
            "|        489573|     21754|HOME BUILDING BLO...|       5|01-12-2009 13:29| 5.95|      15051|United Kingdom|\n",
            "|        489573|     22070|SMALL RETRO SPOT ...|       4|01-12-2009 13:29| 3.75|      15051|United Kingdom|\n",
            "|        489575|     21232|STRAWBERRY CERAMI...|      12|01-12-2009 13:37| 1.25|      13590|United Kingdom|\n",
            "|        489579|     84854| GIRLY PINK TOOL SET|       1|01-12-2009 13:41| 4.95|      16887|United Kingdom|\n",
            "|        489579|     21034|REX CASH+CARRY JU...|       1|01-12-2009 13:41| 0.95|      16887|United Kingdom|\n",
            "|        489590|     22086|PAPER CHAIN KIT 5...|       2|01-12-2009 14:14| 2.95|      13110|United Kingdom|\n",
            "|        489593|     21257|VICTORIAN SEWING ...|       2|01-12-2009 14:19| 7.95|      12836|United Kingdom|\n",
            "|        489654|    84508A|CAMOFLAGE DESIGN ...|       2|01-12-2009 17:19| 2.55|      15750|United Kingdom|\n",
            "|        489787|     21166|COOK WITH WINE ME...|       1|02-12-2009 11:53| 1.95|      15542|United Kingdom|\n",
            "|        489797|    47566B|TEA TIME PARTY BU...|       2|02-12-2009 12:19| 4.65|      15581|United Kingdom|\n",
            "|        489802|     84692|BOX OF 24 COCKTAI...|       1|02-12-2009 12:32| 0.42|      15581|United Kingdom|\n",
            "+--------------+----------+--------------------+--------+----------------+-----+-----------+--------------+\n",
            "only showing top 20 rows\n",
            "\n"
          ]
        }
      ]
    },
    {
      "cell_type": "code",
      "source": [
        "df_2.dtypes"
      ],
      "metadata": {
        "id": "MnSHKN_ENFEQ",
        "colab": {
          "base_uri": "https://localhost:8080/"
        },
        "outputId": "194611d1-f2df-40b7-a05e-f12ba2f58fa5"
      },
      "execution_count": null,
      "outputs": [
        {
          "output_type": "execute_result",
          "data": {
            "text/plain": [
              "[('transaction_id', 'int'),\n",
              " ('product_id', 'string'),\n",
              " ('product_name', 'string'),\n",
              " ('quantity', 'int'),\n",
              " ('transaction_date', 'string'),\n",
              " ('price', 'double'),\n",
              " ('customer_id', 'int'),\n",
              " ('country', 'string')]"
            ]
          },
          "metadata": {},
          "execution_count": 42
        }
      ]
    },
    {
      "cell_type": "markdown",
      "source": [
        "Spliting 'transaction_date' column to 'transaction_date' and 'transaction_time'"
      ],
      "metadata": {
        "id": "1GKyYjYX21xq"
      }
    },
    {
      "cell_type": "code",
      "source": [
        "df_1 = df_1\n",
        "df_2 = df_2"
      ],
      "metadata": {
        "id": "jEQVXEukWkLn"
      },
      "execution_count": null,
      "outputs": []
    },
    {
      "cell_type": "code",
      "source": [
        "df_1.show()"
      ],
      "metadata": {
        "id": "uZnQAp-2VVs-",
        "colab": {
          "base_uri": "https://localhost:8080/"
        },
        "outputId": "a1c2c17e-83d8-4b0b-b0ae-9df199454926"
      },
      "execution_count": null,
      "outputs": [
        {
          "output_type": "stream",
          "name": "stdout",
          "text": [
            "+--------------+----------+--------------------+--------+----------------+-----+-----------+--------------+\n",
            "|transaction_id|product_id|        product_name|quantity|transaction_date|price|customer_id|       country|\n",
            "+--------------+----------+--------------------+--------+----------------+-----+-----------+--------------+\n",
            "|        536381|     22411|JUMBO SHOPPER VIN...|      10|01-12-2010 09:41| 1.95|      15311|United Kingdom|\n",
            "|        536392|     22827|RUSTIC  SEVENTEEN...|       1|01-12-2010 10:29|165.0|      13705|United Kingdom|\n",
            "|        536401|     21592|RETROSPOT CIGAR B...|       1|01-12-2010 11:21| 1.25|      15862|United Kingdom|\n",
            "|        536464|     22988|   SOLDIERS EGG CUP |       1|01-12-2010 12:23| 1.25|      17968|United Kingdom|\n",
            "|        536464|     22910|PAPER CHAIN KIT V...|       1|01-12-2010 12:23| 2.95|      17968|United Kingdom|\n",
            "|        536488|     20878|SET/9 CHRISTMAS T...|       2|01-12-2010 12:31| 1.25|      17897|United Kingdom|\n",
            "|        536500|     22712|    CARD DOLLY GIRL |      12|01-12-2010 12:35| 0.42|      17377|United Kingdom|\n",
            "|        536522|     84969|BOX OF 6 ASSORTED...|       1|01-12-2010 12:49| 4.25|      15012|United Kingdom|\n",
            "|        536569|     22640|SET OF 4 NAPKIN C...|       1|01-12-2010 15:35| 2.55|      16274|United Kingdom|\n",
            "|        536597|     20726|  LUNCH BAG WOODLAND|       1|01-12-2010 17:35| 1.65|      18011|United Kingdom|\n",
            "|        536608|     22863|  SOAP DISH BROCANTE|       6|02-12-2010 09:37| 2.95|      12855|United Kingdom|\n",
            "|        536618|     22440|BALLOON WATER BOM...|      40|02-12-2010 10:17| 0.42|      17017|United Kingdom|\n",
            "|        536620|     22744|MAKE YOUR OWN MON...|       6|02-12-2010 10:27| 2.95|      14135|United Kingdom|\n",
            "|        536672|     21288|STRIPEY CHOCOLATE...|       6|02-12-2010 12:10| 2.95|      14491|United Kingdom|\n",
            "|        536674|     20832|RED FLOCK LOVE HE...|       4|02-12-2010 12:16| 0.85|      15923|United Kingdom|\n",
            "|        536741|     22652|   TRAVEL SEWING KIT|      10|02-12-2010 13:11| 1.65|      13117|United Kingdom|\n",
            "|        536749|    90195B|BLACK GEMSTONE BR...|       1|02-12-2010 13:49| 8.95|      17976|United Kingdom|\n",
            "|        536796|     22557|PLASTERS IN TIN V...|       1|02-12-2010 15:46| 1.65|      15574|United Kingdom|\n",
            "|        536830|     84077|WORLD WAR 2 GLIDE...|    2880|02-12-2010 17:38| 0.18|      16754|United Kingdom|\n",
            "|        536841|     22077|6 RIBBONS RUSTIC ...|      12|02-12-2010 18:27| 1.65|      16150|United Kingdom|\n",
            "+--------------+----------+--------------------+--------+----------------+-----+-----------+--------------+\n",
            "only showing top 20 rows\n",
            "\n"
          ]
        }
      ]
    },
    {
      "cell_type": "code",
      "source": [
        "df_1.dtypes"
      ],
      "metadata": {
        "id": "OVBXQZXRRBvl",
        "colab": {
          "base_uri": "https://localhost:8080/"
        },
        "outputId": "d27b8bba-74ac-4bf2-c1ea-8b821ec04671"
      },
      "execution_count": null,
      "outputs": [
        {
          "output_type": "execute_result",
          "data": {
            "text/plain": [
              "[('transaction_id', 'int'),\n",
              " ('product_id', 'string'),\n",
              " ('product_name', 'string'),\n",
              " ('quantity', 'int'),\n",
              " ('transaction_date', 'string'),\n",
              " ('price', 'double'),\n",
              " ('customer_id', 'int'),\n",
              " ('country', 'string')]"
            ]
          },
          "metadata": {},
          "execution_count": 45
        }
      ]
    },
    {
      "cell_type": "code",
      "source": [
        "from pyspark.sql.functions import substring,to_date\n",
        "\n",
        "df_1 = df_1.withColumn('transaction_date', to_date(substring(df_1['transaction_date'], 1, 10), 'dd-MM-yyyy'))\n",
        "\n",
        "df_1.show()"
      ],
      "metadata": {
        "id": "Ez0CpsCvWbAA",
        "colab": {
          "base_uri": "https://localhost:8080/"
        },
        "outputId": "9ddc65e7-f914-4315-d67b-7d055f9c0275"
      },
      "execution_count": null,
      "outputs": [
        {
          "output_type": "stream",
          "name": "stdout",
          "text": [
            "+--------------+----------+--------------------+--------+----------------+-----+-----------+--------------+\n",
            "|transaction_id|product_id|        product_name|quantity|transaction_date|price|customer_id|       country|\n",
            "+--------------+----------+--------------------+--------+----------------+-----+-----------+--------------+\n",
            "|        536381|     22411|JUMBO SHOPPER VIN...|      10|      2010-12-01| 1.95|      15311|United Kingdom|\n",
            "|        536392|     22827|RUSTIC  SEVENTEEN...|       1|      2010-12-01|165.0|      13705|United Kingdom|\n",
            "|        536401|     21592|RETROSPOT CIGAR B...|       1|      2010-12-01| 1.25|      15862|United Kingdom|\n",
            "|        536464|     22988|   SOLDIERS EGG CUP |       1|      2010-12-01| 1.25|      17968|United Kingdom|\n",
            "|        536464|     22910|PAPER CHAIN KIT V...|       1|      2010-12-01| 2.95|      17968|United Kingdom|\n",
            "|        536488|     20878|SET/9 CHRISTMAS T...|       2|      2010-12-01| 1.25|      17897|United Kingdom|\n",
            "|        536500|     22712|    CARD DOLLY GIRL |      12|      2010-12-01| 0.42|      17377|United Kingdom|\n",
            "|        536522|     84969|BOX OF 6 ASSORTED...|       1|      2010-12-01| 4.25|      15012|United Kingdom|\n",
            "|        536569|     22640|SET OF 4 NAPKIN C...|       1|      2010-12-01| 2.55|      16274|United Kingdom|\n",
            "|        536597|     20726|  LUNCH BAG WOODLAND|       1|      2010-12-01| 1.65|      18011|United Kingdom|\n",
            "|        536608|     22863|  SOAP DISH BROCANTE|       6|      2010-12-02| 2.95|      12855|United Kingdom|\n",
            "|        536618|     22440|BALLOON WATER BOM...|      40|      2010-12-02| 0.42|      17017|United Kingdom|\n",
            "|        536620|     22744|MAKE YOUR OWN MON...|       6|      2010-12-02| 2.95|      14135|United Kingdom|\n",
            "|        536672|     21288|STRIPEY CHOCOLATE...|       6|      2010-12-02| 2.95|      14491|United Kingdom|\n",
            "|        536674|     20832|RED FLOCK LOVE HE...|       4|      2010-12-02| 0.85|      15923|United Kingdom|\n",
            "|        536741|     22652|   TRAVEL SEWING KIT|      10|      2010-12-02| 1.65|      13117|United Kingdom|\n",
            "|        536749|    90195B|BLACK GEMSTONE BR...|       1|      2010-12-02| 8.95|      17976|United Kingdom|\n",
            "|        536796|     22557|PLASTERS IN TIN V...|       1|      2010-12-02| 1.65|      15574|United Kingdom|\n",
            "|        536830|     84077|WORLD WAR 2 GLIDE...|    2880|      2010-12-02| 0.18|      16754|United Kingdom|\n",
            "|        536841|     22077|6 RIBBONS RUSTIC ...|      12|      2010-12-02| 1.65|      16150|United Kingdom|\n",
            "+--------------+----------+--------------------+--------+----------------+-----+-----------+--------------+\n",
            "only showing top 20 rows\n",
            "\n"
          ]
        }
      ]
    },
    {
      "cell_type": "code",
      "source": [
        "df_1.dtypes"
      ],
      "metadata": {
        "id": "oc6H6d67YJB4",
        "colab": {
          "base_uri": "https://localhost:8080/"
        },
        "outputId": "c4a5e773-b04c-4d9a-f0ea-25f441db3fac"
      },
      "execution_count": null,
      "outputs": [
        {
          "output_type": "execute_result",
          "data": {
            "text/plain": [
              "[('transaction_id', 'int'),\n",
              " ('product_id', 'string'),\n",
              " ('product_name', 'string'),\n",
              " ('quantity', 'int'),\n",
              " ('transaction_date', 'date'),\n",
              " ('price', 'double'),\n",
              " ('customer_id', 'int'),\n",
              " ('country', 'string')]"
            ]
          },
          "metadata": {},
          "execution_count": 47
        }
      ]
    },
    {
      "cell_type": "code",
      "source": [
        "df_2.show()"
      ],
      "metadata": {
        "id": "qFms8GzkYrxq",
        "colab": {
          "base_uri": "https://localhost:8080/"
        },
        "outputId": "343dde45-94a6-4ebd-9303-cb136cbbd306"
      },
      "execution_count": null,
      "outputs": [
        {
          "output_type": "stream",
          "name": "stdout",
          "text": [
            "+--------------+----------+--------------------+--------+----------------+-----+-----------+--------------+\n",
            "|transaction_id|product_id|        product_name|quantity|transaction_date|price|customer_id|       country|\n",
            "+--------------+----------+--------------------+--------+----------------+-----+-----------+--------------+\n",
            "|        489436|     21756|BATH BUILDING BLO...|       3|01-12-2009 09:06| 5.95|      13078|United Kingdom|\n",
            "|        489438|    84519A|TOMATO CHARLIE+LO...|      56|01-12-2009 09:24| 2.15|      18102|United Kingdom|\n",
            "|        489446|     22199|FRYING PAN RED PO...|       4|01-12-2009 10:06| 4.25|      13758|United Kingdom|\n",
            "|        489520|     22083|PAPER CHAIN KIT R...|       6|01-12-2009 11:41| 2.95|      14911|          EIRE|\n",
            "|        489522|     21133|PAINTED BIRD ASSO...|       6|01-12-2009 11:45| 1.69|      15998|United Kingdom|\n",
            "|        489529|     21500|   PINK SPOTS  WRAP |      25|01-12-2009 11:51| 0.42|      17984|United Kingdom|\n",
            "|        489545|     22113|GREY HEART HOT WA...|       1|01-12-2009 12:22| 3.45|      17804|United Kingdom|\n",
            "|        489571|     20975|12 PENCILS SMALL ...|       1|01-12-2009 13:29| 0.65|      15967|United Kingdom|\n",
            "|        489572|    85014B|RED/WHITE DOTS RU...|       1|01-12-2009 13:29| 5.95|      17611|United Kingdom|\n",
            "|        489573|     21754|HOME BUILDING BLO...|       5|01-12-2009 13:29| 5.95|      15051|United Kingdom|\n",
            "|        489573|     22070|SMALL RETRO SPOT ...|       4|01-12-2009 13:29| 3.75|      15051|United Kingdom|\n",
            "|        489575|     21232|STRAWBERRY CERAMI...|      12|01-12-2009 13:37| 1.25|      13590|United Kingdom|\n",
            "|        489579|     84854| GIRLY PINK TOOL SET|       1|01-12-2009 13:41| 4.95|      16887|United Kingdom|\n",
            "|        489579|     21034|REX CASH+CARRY JU...|       1|01-12-2009 13:41| 0.95|      16887|United Kingdom|\n",
            "|        489590|     22086|PAPER CHAIN KIT 5...|       2|01-12-2009 14:14| 2.95|      13110|United Kingdom|\n",
            "|        489593|     21257|VICTORIAN SEWING ...|       2|01-12-2009 14:19| 7.95|      12836|United Kingdom|\n",
            "|        489654|    84508A|CAMOFLAGE DESIGN ...|       2|01-12-2009 17:19| 2.55|      15750|United Kingdom|\n",
            "|        489787|     21166|COOK WITH WINE ME...|       1|02-12-2009 11:53| 1.95|      15542|United Kingdom|\n",
            "|        489797|    47566B|TEA TIME PARTY BU...|       2|02-12-2009 12:19| 4.65|      15581|United Kingdom|\n",
            "|        489802|     84692|BOX OF 24 COCKTAI...|       1|02-12-2009 12:32| 0.42|      15581|United Kingdom|\n",
            "+--------------+----------+--------------------+--------+----------------+-----+-----------+--------------+\n",
            "only showing top 20 rows\n",
            "\n"
          ]
        }
      ]
    },
    {
      "cell_type": "code",
      "source": [
        "df_2.dtypes"
      ],
      "metadata": {
        "id": "hBACyCs6YwQk",
        "colab": {
          "base_uri": "https://localhost:8080/"
        },
        "outputId": "469e645b-efd0-493a-a5c5-f0034f49c436"
      },
      "execution_count": null,
      "outputs": [
        {
          "output_type": "execute_result",
          "data": {
            "text/plain": [
              "[('transaction_id', 'int'),\n",
              " ('product_id', 'string'),\n",
              " ('product_name', 'string'),\n",
              " ('quantity', 'int'),\n",
              " ('transaction_date', 'string'),\n",
              " ('price', 'double'),\n",
              " ('customer_id', 'int'),\n",
              " ('country', 'string')]"
            ]
          },
          "metadata": {},
          "execution_count": 49
        }
      ]
    },
    {
      "cell_type": "code",
      "source": [
        "from pyspark.sql.functions import substring\n",
        "\n",
        "df_2 = df_2.withColumn('transaction_date', to_date(substring(df_2['transaction_date'], 1, 10), 'dd-MM-yyyy'))\n",
        "\n",
        "df_2.show()"
      ],
      "metadata": {
        "id": "8S-CAD4cYzXV",
        "colab": {
          "base_uri": "https://localhost:8080/"
        },
        "outputId": "97eaa94c-2184-4a33-aa05-b17f8871d76e"
      },
      "execution_count": null,
      "outputs": [
        {
          "output_type": "stream",
          "name": "stdout",
          "text": [
            "+--------------+----------+--------------------+--------+----------------+-----+-----------+--------------+\n",
            "|transaction_id|product_id|        product_name|quantity|transaction_date|price|customer_id|       country|\n",
            "+--------------+----------+--------------------+--------+----------------+-----+-----------+--------------+\n",
            "|        489436|     21756|BATH BUILDING BLO...|       3|      2009-12-01| 5.95|      13078|United Kingdom|\n",
            "|        489438|    84519A|TOMATO CHARLIE+LO...|      56|      2009-12-01| 2.15|      18102|United Kingdom|\n",
            "|        489446|     22199|FRYING PAN RED PO...|       4|      2009-12-01| 4.25|      13758|United Kingdom|\n",
            "|        489520|     22083|PAPER CHAIN KIT R...|       6|      2009-12-01| 2.95|      14911|          EIRE|\n",
            "|        489522|     21133|PAINTED BIRD ASSO...|       6|      2009-12-01| 1.69|      15998|United Kingdom|\n",
            "|        489529|     21500|   PINK SPOTS  WRAP |      25|      2009-12-01| 0.42|      17984|United Kingdom|\n",
            "|        489545|     22113|GREY HEART HOT WA...|       1|      2009-12-01| 3.45|      17804|United Kingdom|\n",
            "|        489571|     20975|12 PENCILS SMALL ...|       1|      2009-12-01| 0.65|      15967|United Kingdom|\n",
            "|        489572|    85014B|RED/WHITE DOTS RU...|       1|      2009-12-01| 5.95|      17611|United Kingdom|\n",
            "|        489573|     21754|HOME BUILDING BLO...|       5|      2009-12-01| 5.95|      15051|United Kingdom|\n",
            "|        489573|     22070|SMALL RETRO SPOT ...|       4|      2009-12-01| 3.75|      15051|United Kingdom|\n",
            "|        489575|     21232|STRAWBERRY CERAMI...|      12|      2009-12-01| 1.25|      13590|United Kingdom|\n",
            "|        489579|     84854| GIRLY PINK TOOL SET|       1|      2009-12-01| 4.95|      16887|United Kingdom|\n",
            "|        489579|     21034|REX CASH+CARRY JU...|       1|      2009-12-01| 0.95|      16887|United Kingdom|\n",
            "|        489590|     22086|PAPER CHAIN KIT 5...|       2|      2009-12-01| 2.95|      13110|United Kingdom|\n",
            "|        489593|     21257|VICTORIAN SEWING ...|       2|      2009-12-01| 7.95|      12836|United Kingdom|\n",
            "|        489654|    84508A|CAMOFLAGE DESIGN ...|       2|      2009-12-01| 2.55|      15750|United Kingdom|\n",
            "|        489787|     21166|COOK WITH WINE ME...|       1|      2009-12-02| 1.95|      15542|United Kingdom|\n",
            "|        489797|    47566B|TEA TIME PARTY BU...|       2|      2009-12-02| 4.65|      15581|United Kingdom|\n",
            "|        489802|     84692|BOX OF 24 COCKTAI...|       1|      2009-12-02| 0.42|      15581|United Kingdom|\n",
            "+--------------+----------+--------------------+--------+----------------+-----+-----------+--------------+\n",
            "only showing top 20 rows\n",
            "\n"
          ]
        }
      ]
    },
    {
      "cell_type": "code",
      "source": [
        "df_2.dtypes"
      ],
      "metadata": {
        "id": "xb0DVWh3Y48M",
        "colab": {
          "base_uri": "https://localhost:8080/"
        },
        "outputId": "f669b66b-5025-4800-9238-ce4fc9febb26"
      },
      "execution_count": null,
      "outputs": [
        {
          "output_type": "execute_result",
          "data": {
            "text/plain": [
              "[('transaction_id', 'int'),\n",
              " ('product_id', 'string'),\n",
              " ('product_name', 'string'),\n",
              " ('quantity', 'int'),\n",
              " ('transaction_date', 'date'),\n",
              " ('price', 'double'),\n",
              " ('customer_id', 'int'),\n",
              " ('country', 'string')]"
            ]
          },
          "metadata": {},
          "execution_count": 51
        }
      ]
    },
    {
      "cell_type": "markdown",
      "source": [
        "#MARKET BASKET ANALYSIS ALGORITHMS"
      ],
      "metadata": {
        "id": "iISMpvh4alzI"
      }
    },
    {
      "cell_type": "markdown",
      "source": [
        "FP-GROWTH ALGORITHM"
      ],
      "metadata": {
        "id": "VLl5U0L0bupg"
      }
    },
    {
      "cell_type": "markdown",
      "source": [
        "Apriori algorithm generates all itemsets by scanning the full transactional database. Whereas the FP growth algorithm only generates the frequent itemsets according to the minimum support defined by the user.\n",
        "FP(Frequent Pattern) Tree is better than Apriori Algorithm."
      ],
      "metadata": {
        "id": "tK9FaaLaTURz"
      }
    },
    {
      "cell_type": "code",
      "source": [
        "from pyspark.ml.fpm import FPGrowth\n",
        "from pyspark.ml.feature import StringIndexer\n",
        "from pyspark.sql import functions as F"
      ],
      "metadata": {
        "id": "A5LBrZ0udXUe"
      },
      "execution_count": null,
      "outputs": []
    },
    {
      "cell_type": "code",
      "source": [
        "basketdata = df_1.dropDuplicates(['transaction_id','product_name']).sort('transaction_id')\n",
        "original_data=basketdata\n",
        "basketdata.show()\n",
        "print((basketdata.count(), len(basketdata.columns)))"
      ],
      "metadata": {
        "id": "wKJ6HV6LIu9Z",
        "colab": {
          "base_uri": "https://localhost:8080/"
        },
        "outputId": "b5886154-750c-4fc6-b029-2c611140ea92"
      },
      "execution_count": null,
      "outputs": [
        {
          "output_type": "stream",
          "name": "stdout",
          "text": [
            "+--------------+----------+--------------------+--------+----------------+-----+-----------+--------------+\n",
            "|transaction_id|product_id|        product_name|quantity|transaction_date|price|customer_id|       country|\n",
            "+--------------+----------+--------------------+--------+----------------+-----+-----------+--------------+\n",
            "|        536365|    84406B|CREAM CUPID HEART...|       8|      2010-12-01| 2.75|      17850|United Kingdom|\n",
            "|        536365|     21730|GLASS STAR FROSTE...|       6|      2010-12-01| 4.25|      17850|United Kingdom|\n",
            "|        536365|    84029G|KNITTED UNION FLA...|       6|      2010-12-01| 3.39|      17850|United Kingdom|\n",
            "|        536365|    85123A|WHITE HANGING HEA...|       6|      2010-12-01| 2.55|      17850|United Kingdom|\n",
            "|        536365|    84029E|RED WOOLLY HOTTIE...|       6|      2010-12-01| 3.39|      17850|United Kingdom|\n",
            "|        536365|     22752|SET 7 BABUSHKA NE...|       2|      2010-12-01| 7.65|      17850|United Kingdom|\n",
            "|        536365|     71053| WHITE METAL LANTERN|       6|      2010-12-01| 3.39|      17850|United Kingdom|\n",
            "|        536366|     22632|HAND WARMER RED P...|       6|      2010-12-01| 1.85|      17850|United Kingdom|\n",
            "|        536366|     22633|HAND WARMER UNION...|       6|      2010-12-01| 1.85|      17850|United Kingdom|\n",
            "|        536367|     84969|BOX OF 6 ASSORTED...|       6|      2010-12-01| 4.25|      13047|United Kingdom|\n",
            "|        536367|     84879|ASSORTED COLOUR B...|      32|      2010-12-01| 1.69|      13047|United Kingdom|\n",
            "|        536367|     22622|BOX OF VINTAGE AL...|       2|      2010-12-01| 9.95|      13047|United Kingdom|\n",
            "|        536367|     22623|BOX OF VINTAGE JI...|       3|      2010-12-01| 4.95|      13047|United Kingdom|\n",
            "|        536367|     48187| DOORMAT NEW ENGLAND|       4|      2010-12-01| 7.95|      13047|United Kingdom|\n",
            "|        536367|     21754|HOME BUILDING BLO...|       3|      2010-12-01| 5.95|      13047|United Kingdom|\n",
            "|        536367|     22749|FELTCRAFT PRINCES...|       8|      2010-12-01| 3.75|      13047|United Kingdom|\n",
            "|        536367|     22310|IVORY KNITTED MUG...|       6|      2010-12-01| 1.65|      13047|United Kingdom|\n",
            "|        536367|     21777|RECIPE BOX WITH M...|       4|      2010-12-01| 7.95|      13047|United Kingdom|\n",
            "|        536367|     21755|LOVE BUILDING BLO...|       3|      2010-12-01| 5.95|      13047|United Kingdom|\n",
            "|        536367|     22745|POPPY'S PLAYHOUSE...|       6|      2010-12-01|  2.1|      13047|United Kingdom|\n",
            "+--------------+----------+--------------------+--------+----------------+-----+-----------+--------------+\n",
            "only showing top 20 rows\n",
            "\n",
            "(387773, 8)\n"
          ]
        }
      ]
    },
    {
      "cell_type": "code",
      "source": [
        "basketdata = basketdata.groupBy(\"transaction_id\").agg(F.collect_list(\"product_name\")).sort('transaction_id')\n",
        "basketdata.show()"
      ],
      "metadata": {
        "id": "zPb4C9pKJQLJ",
        "colab": {
          "base_uri": "https://localhost:8080/"
        },
        "outputId": "08cc6141-9ebc-4378-fa4a-d87a3f056a35"
      },
      "execution_count": null,
      "outputs": [
        {
          "output_type": "stream",
          "name": "stdout",
          "text": [
            "+--------------+--------------------------+\n",
            "|transaction_id|collect_list(product_name)|\n",
            "+--------------+--------------------------+\n",
            "|        536365|      [SET 7 BABUSHKA N...|\n",
            "|        536366|      [HAND WARMER UNIO...|\n",
            "|        536367|      [ASSORTED COLOUR ...|\n",
            "|        536368|      [BLUE COAT RACK P...|\n",
            "|        536369|      [BATH BUILDING BL...|\n",
            "|        536370|      [ROUND SNACK BOXE...|\n",
            "|        536371|      [PAPER CHAIN KIT ...|\n",
            "|        536372|      [HAND WARMER UNIO...|\n",
            "|        536373|      [WOODEN FRAME ANT...|\n",
            "|        536374|      [VICTORIAN SEWING...|\n",
            "|        536375|      [WOODEN PICTURE F...|\n",
            "|        536376|      [HOT WATER BOTTLE...|\n",
            "|        536377|      [HAND WARMER UNIO...|\n",
            "|        536378|      [PACK OF 60 DINOS...|\n",
            "|        536380|      [JAM MAKING SET P...|\n",
            "|        536381|      [GUMBALL MONOCHRO...|\n",
            "|        536382|      [ANTIQUE GLASS DR...|\n",
            "|        536384|      [ENAMEL FLOWER JU...|\n",
            "|        536385|      [TRADITIONAL CHRI...|\n",
            "|        536386|      [JUMBO BAG RED RE...|\n",
            "+--------------+--------------------------+\n",
            "only showing top 20 rows\n",
            "\n"
          ]
        }
      ]
    },
    {
      "cell_type": "code",
      "source": [
        "basketdata"
      ],
      "metadata": {
        "id": "DoC9JZ6RJaMR",
        "colab": {
          "base_uri": "https://localhost:8080/"
        },
        "outputId": "2d903ec4-52c4-428e-9603-8cafccbb9e28"
      },
      "execution_count": null,
      "outputs": [
        {
          "output_type": "execute_result",
          "data": {
            "text/plain": [
              "DataFrame[transaction_id: int, collect_list(product_name): array<string>]"
            ]
          },
          "metadata": {},
          "execution_count": 55
        }
      ]
    },
    {
      "cell_type": "code",
      "source": [
        "basketdata = basketdata.withColumnRenamed(\"collect_list(product_name)\",\"Items\")\n",
        "basketdata.show()"
      ],
      "metadata": {
        "id": "lguLcNVFLDvA",
        "colab": {
          "base_uri": "https://localhost:8080/"
        },
        "outputId": "213ad5f4-bec5-4ebf-eceb-1b031f4b6932"
      },
      "execution_count": null,
      "outputs": [
        {
          "output_type": "stream",
          "name": "stdout",
          "text": [
            "+--------------+--------------------+\n",
            "|transaction_id|               Items|\n",
            "+--------------+--------------------+\n",
            "|        536365|[SET 7 BABUSHKA N...|\n",
            "|        536366|[HAND WARMER UNIO...|\n",
            "|        536367|[ASSORTED COLOUR ...|\n",
            "|        536368|[BLUE COAT RACK P...|\n",
            "|        536369|[BATH BUILDING BL...|\n",
            "|        536370|[ROUND SNACK BOXE...|\n",
            "|        536371|[PAPER CHAIN KIT ...|\n",
            "|        536372|[HAND WARMER UNIO...|\n",
            "|        536373|[WOODEN FRAME ANT...|\n",
            "|        536374|[VICTORIAN SEWING...|\n",
            "|        536375|[WOODEN PICTURE F...|\n",
            "|        536376|[HOT WATER BOTTLE...|\n",
            "|        536377|[HAND WARMER UNIO...|\n",
            "|        536378|[PACK OF 60 DINOS...|\n",
            "|        536380|[JAM MAKING SET P...|\n",
            "|        536381|[GUMBALL MONOCHRO...|\n",
            "|        536382|[ANTIQUE GLASS DR...|\n",
            "|        536384|[ENAMEL FLOWER JU...|\n",
            "|        536385|[TRADITIONAL CHRI...|\n",
            "|        536386|[JUMBO BAG RED RE...|\n",
            "+--------------+--------------------+\n",
            "only showing top 20 rows\n",
            "\n"
          ]
        }
      ]
    },
    {
      "cell_type": "code",
      "source": [
        "fpGrowth = FPGrowth(itemsCol=\"Items\", minSupport=0.006, minConfidence=0.006)\n",
        "model = fpGrowth.fit(basketdata)"
      ],
      "metadata": {
        "id": "QlrG56MdLyVB"
      },
      "execution_count": null,
      "outputs": []
    },
    {
      "cell_type": "markdown",
      "source": [
        "minSupport: It sets the minimum support threshold. The minSupport parameter is a fraction between 0 and 1, and it represents the minimum proportion of transactions that must contain a particular pattern (a set of items) for it to be considered frequent. In this case, the threshold is set to 0.006, which means that a pattern must appear in at least 0.6% of the transactions to be considered frequent.\n",
        "\n",
        "\n",
        "minConfidence: It sets the minimum confidence threshold for generating association rules. The minConfidence parameter is also a fraction between 0 and 1. It represents the minimum level of confidence required for an association rule to be generated. In this case, it's set to 0.006, which corresponds to 0.6% confidence."
      ],
      "metadata": {
        "id": "URI7Kp0bMTot"
      }
    },
    {
      "cell_type": "code",
      "source": [
        "model.freqItemsets.show()"
      ],
      "metadata": {
        "id": "QasAE8h8MBoB",
        "colab": {
          "base_uri": "https://localhost:8080/"
        },
        "outputId": "eab68dec-55d3-4d52-f29b-1325d499c8ab"
      },
      "execution_count": null,
      "outputs": [
        {
          "output_type": "stream",
          "name": "stdout",
          "text": [
            "+--------------------+----+\n",
            "|               items|freq|\n",
            "+--------------------+----+\n",
            "|[12 COLOURED PART...| 139|\n",
            "|[TRAVEL CARD WALL...| 205|\n",
            "|[TRAVEL CARD WALL...| 119|\n",
            "|[JUMBO BAG SCANDI...| 451|\n",
            "|[JUMBO BAG SCANDI...| 112|\n",
            "|[JUMBO BAG SCANDI...| 124|\n",
            "|[JUMBO BAG SCANDI...| 128|\n",
            "|[JUMBO BAG SCANDI...| 134|\n",
            "|[JUMBO BAG SCANDI...| 122|\n",
            "|[JUMBO BAG SCANDI...| 268|\n",
            "|[JUMBO BAG SCANDI...| 134|\n",
            "|[JUMBO BAG SCANDI...| 241|\n",
            "|[JUMBO BAG SCANDI...| 159|\n",
            "|[JUMBO BAG SCANDI...| 125|\n",
            "|[JUMBO BAG SCANDI...| 126|\n",
            "|[JUMBO BAG SCANDI...| 198|\n",
            "|[JUMBO BAG SCANDI...| 143|\n",
            "|[JUMBO BAG SCANDI...| 151|\n",
            "|[JUMBO BAG SCANDI...| 113|\n",
            "|[JUMBO BAG SCANDI...| 155|\n",
            "+--------------------+----+\n",
            "only showing top 20 rows\n",
            "\n"
          ]
        }
      ]
    },
    {
      "cell_type": "code",
      "source": [
        "from pyspark.sql.functions import desc\n",
        "\n",
        "sorted_data = model.freqItemsets.sort(desc(\"freq\"))\n",
        "sorted_data.show()"
      ],
      "metadata": {
        "id": "VJgsil7eMhjo",
        "colab": {
          "base_uri": "https://localhost:8080/"
        },
        "outputId": "5d77690a-678a-4707-c201-9957975851ca"
      },
      "execution_count": null,
      "outputs": [
        {
          "output_type": "stream",
          "name": "stdout",
          "text": [
            "+--------------------+----+\n",
            "|               items|freq|\n",
            "+--------------------+----+\n",
            "|[WHITE HANGING HE...|1971|\n",
            "|[REGENCY CAKESTAN...|1704|\n",
            "|[JUMBO BAG RED RE...|1600|\n",
            "|     [PARTY BUNTING]|1380|\n",
            "|[ASSORTED COLOUR ...|1375|\n",
            "|[LUNCH BAG RED RE...|1288|\n",
            "|[SET OF 3 CAKE TI...|1146|\n",
            "|           [POSTAGE]|1100|\n",
            "|[LUNCH BAG  BLACK...|1052|\n",
            "|[PACK OF 72 RETRO...|1029|\n",
            "|    [SPOTTY BUNTING]|1003|\n",
            "|[LUNCH BAG SPACEB...| 988|\n",
            "|[PAPER CHAIN KIT ...| 980|\n",
            "|[NATURAL SLATE HE...| 967|\n",
            "|[LUNCH BAG CARS B...| 966|\n",
            "|[HEART OF WICKER ...| 961|\n",
            "|[LUNCH BAG PINK P...| 931|\n",
            "|[LUNCH BAG SUKI D...| 899|\n",
            "|[JAM MAKING SET W...| 879|\n",
            "|[ALARM CLOCK BAKE...| 877|\n",
            "+--------------------+----+\n",
            "only showing top 20 rows\n",
            "\n"
          ]
        }
      ]
    },
    {
      "cell_type": "code",
      "source": [
        "model.associationRules.show()"
      ],
      "metadata": {
        "id": "S-Hs4VKVM22r",
        "colab": {
          "base_uri": "https://localhost:8080/"
        },
        "outputId": "3e10ba1b-961f-4139-b727-6f5081d64abc"
      },
      "execution_count": null,
      "outputs": [
        {
          "output_type": "stream",
          "name": "stdout",
          "text": [
            "+--------------------+--------------------+-------------------+------------------+--------------------+\n",
            "|          antecedent|          consequent|         confidence|              lift|             support|\n",
            "+--------------------+--------------------+-------------------+------------------+--------------------+\n",
            "|[FELTCRAFT GIRL N...|[FELTCRAFT GIRL A...| 0.7529411764705882| 54.73144175317186|0.006905481225722...|\n",
            "|[JUMBO BAG ALPHAB...|[JUMBO BAG VINTAG...|0.47297297297297297|11.356252625682677|0.007552870090634...|\n",
            "|[JUMBO BAG ALPHAB...|[JUMBO STORAGE BA...| 0.4155405405405405| 9.951498009637543|0.006635735865343116|\n",
            "|[JUMBO BAG ALPHAB...|[JUMBO BAG PINK P...|0.46621621621621623| 9.921680578396996|0.007444971946482521|\n",
            "|[JUMBO BAG ALPHAB...|  [JUMBO BAG APPLES]| 0.4864864864864865|12.559211021606565|0.007768666378938282|\n",
            "|[SET OF 6 SNACK L...|[SET OF 6 TEA TIM...| 0.6683168316831684|38.833607498680905| 0.00728312473025464|\n",
            "|[SET OF 6 SNACK L...|[SET OF 12 MINI L...| 0.7425742574257426|38.340825726026644|0.008092360811394044|\n",
            "|[BLUE POLKADOT WRAP]|[RED RETROSPOT WR...| 0.5627906976744186|31.139965289829917|0.006527837721191195|\n",
            "|[BLUE POLKADOT WRAP]|[PINK POLKADOT WR...| 0.6093023255813953| 53.02360519707391|0.007067328441950798|\n",
            "|[BLUE SPOT CERAMI...|[BLUE STRIPE CERA...| 0.7635135135135135| 40.32047432047432|0.006096245144583513|\n",
            "|[BLUE SPOT CERAMI...|[RED STRIPE CERAM...| 0.7972972972972973| 44.38048859670481|0.006365990504963314|\n",
            "|[BLUE SPOT CERAMI...|[RED SPOT CERAMIC...| 0.8175675675675675| 54.31696212341373|0.006527837721191195|\n",
            "|[SET OF 6 SPICE T...|[JAM MAKING SET P...|0.18376722817764166| 3.924319517858025|0.006473888649115235|\n",
            "|[SET OF 6 SPICE T...|[RECIPE BOX PANTR...|0.22970903522205208|5.1423752136183065|0.008092360811394044|\n",
            "|[SET OF 6 SPICE T...|[JAM MAKING SET W...|0.24808575803981622| 5.231533118345886|0.008739749676305567|\n",
            "|[SET OF 6 SPICE T...|[SET OF 4 PANTRY ...|0.18529862174578868|3.9661607998613615|0.006527837721191195|\n",
            "|[SET OF 6 SPICE T...|[SET OF 3 CAKE TI...| 0.4563552833078101| 7.381327688825103|0.016076823478636166|\n",
            "|[REGENCY TEA PLAT...|[REGENCY TEA PLAT...|  0.957983193277311|  65.7673202614379|0.006150194216659474|\n",
            "|[RED FLORAL FELTC...|[PINK FLORAL FELT...|  0.556420233463035|44.842632380307904|0.007714717306862322|\n",
            "|[LUNCH BAG WOODLA...|[LUNCH BAG SUKI D...| 0.6173469387755102|12.728746225965358|0.006527837721191195|\n",
            "+--------------------+--------------------+-------------------+------------------+--------------------+\n",
            "only showing top 20 rows\n",
            "\n"
          ]
        }
      ]
    },
    {
      "cell_type": "markdown",
      "source": [
        "Association rules describe relationships between items and can be used to understand how frequently items are purchased together and the strength of those associations."
      ],
      "metadata": {
        "id": "vzt8DRggNsCt"
      }
    },
    {
      "cell_type": "markdown",
      "source": [
        "1. antecedent: which are the items typically found together before a purchase.\n",
        "\n",
        "2. consequent: which are the items that are likely to be purchased if the antecedent items are present.\n",
        "\n",
        "3. confidence: This is the confidence value, which indicates the probability that the consequent will be purchased when the antecedent is present.\n",
        "\n",
        "4. lift: The lift value quantifies how much more likely the consequent is to be purchased when the antecedent is present, compared to when the consequent is purchased independently of the antecedent. A lift value greater than 1 indicates a positive association.\n",
        "\n",
        "5. support: The support count, which represents how frequently the association rule occurs in the dataset."
      ],
      "metadata": {
        "id": "8Yl0tnw0N6H2"
      }
    },
    {
      "cell_type": "code",
      "source": [
        "rules = model.associationRules\n",
        "model.transform(basketdata).show()"
      ],
      "metadata": {
        "id": "ZWrDtNInNPJC",
        "colab": {
          "base_uri": "https://localhost:8080/"
        },
        "outputId": "6554b18a-d73c-4c28-8f10-065906521ab4"
      },
      "execution_count": null,
      "outputs": [
        {
          "output_type": "stream",
          "name": "stdout",
          "text": [
            "+--------------+--------------------+--------------------+\n",
            "|transaction_id|               Items|          prediction|\n",
            "+--------------+--------------------+--------------------+\n",
            "|        536365|[SET 7 BABUSHKA N...|[LARGE WHITE HEAR...|\n",
            "|        536366|[HAND WARMER UNIO...|[HAND WARMER OWL ...|\n",
            "|        536367|[ASSORTED COLOUR ...|[DOORMAT ENGLISH ...|\n",
            "|        536368|[BLUE COAT RACK P...|[HOMEMADE JAM SCE...|\n",
            "|        536369|[BATH BUILDING BL...|[HOME BUILDING BL...|\n",
            "|        536370|[ROUND SNACK BOXE...|[ALARM CLOCK BAKE...|\n",
            "|        536371|[PAPER CHAIN KIT ...|[HAND WARMER OWL ...|\n",
            "|        536372|[HAND WARMER UNIO...|[HAND WARMER OWL ...|\n",
            "|        536373|[WOODEN FRAME ANT...|[WOOD BLACK BOARD...|\n",
            "|        536374|[VICTORIAN SEWING...|                  []|\n",
            "|        536375|[WOODEN PICTURE F...|[WOOD BLACK BOARD...|\n",
            "|        536376|[HOT WATER BOTTLE...|[CANDLEHOLDER PIN...|\n",
            "|        536377|[HAND WARMER UNIO...|[HAND WARMER OWL ...|\n",
            "|        536378|[PACK OF 60 DINOS...|[GINGERBREAD MAN ...|\n",
            "|        536380|[JAM MAKING SET P...|[REGENCY CAKESTAN...|\n",
            "|        536381|[GUMBALL MONOCHRO...|[RABBIT NIGHT LIG...|\n",
            "|        536382|[ANTIQUE GLASS DR...|[ALARM CLOCK BAKE...|\n",
            "|        536384|[ENAMEL FLOWER JU...|[WOODEN PICTURE F...|\n",
            "|        536385|[TRADITIONAL CHRI...|[HOMEMADE JAM SCE...|\n",
            "|        536386|[JUMBO BAG RED RE...|[JUMBO SHOPPER VI...|\n",
            "+--------------+--------------------+--------------------+\n",
            "only showing top 20 rows\n",
            "\n"
          ]
        }
      ]
    },
    {
      "cell_type": "code",
      "source": [
        "transformed = model.transform(basketdata)\n",
        "transformed.show()"
      ],
      "metadata": {
        "id": "z4zgAFDZOo96",
        "colab": {
          "base_uri": "https://localhost:8080/"
        },
        "outputId": "ad8a593b-7d5b-48a3-8093-54c2f94ca54a"
      },
      "execution_count": null,
      "outputs": [
        {
          "output_type": "stream",
          "name": "stdout",
          "text": [
            "+--------------+--------------------+--------------------+\n",
            "|transaction_id|               Items|          prediction|\n",
            "+--------------+--------------------+--------------------+\n",
            "|        536365|[SET 7 BABUSHKA N...|[LARGE WHITE HEAR...|\n",
            "|        536366|[HAND WARMER UNIO...|[HAND WARMER OWL ...|\n",
            "|        536367|[ASSORTED COLOUR ...|[DOORMAT ENGLISH ...|\n",
            "|        536368|[BLUE COAT RACK P...|[HOMEMADE JAM SCE...|\n",
            "|        536369|[BATH BUILDING BL...|[HOME BUILDING BL...|\n",
            "|        536370|[ROUND SNACK BOXE...|[ALARM CLOCK BAKE...|\n",
            "|        536371|[PAPER CHAIN KIT ...|[HAND WARMER OWL ...|\n",
            "|        536372|[HAND WARMER UNIO...|[HAND WARMER OWL ...|\n",
            "|        536373|[WOODEN FRAME ANT...|[WOOD BLACK BOARD...|\n",
            "|        536374|[VICTORIAN SEWING...|                  []|\n",
            "|        536375|[WOODEN PICTURE F...|[WOOD BLACK BOARD...|\n",
            "|        536376|[HOT WATER BOTTLE...|[CANDLEHOLDER PIN...|\n",
            "|        536377|[HAND WARMER UNIO...|[HAND WARMER OWL ...|\n",
            "|        536378|[PACK OF 60 DINOS...|[GINGERBREAD MAN ...|\n",
            "|        536380|[JAM MAKING SET P...|[REGENCY CAKESTAN...|\n",
            "|        536381|[GUMBALL MONOCHRO...|[RABBIT NIGHT LIG...|\n",
            "|        536382|[ANTIQUE GLASS DR...|[ALARM CLOCK BAKE...|\n",
            "|        536384|[ENAMEL FLOWER JU...|[WOODEN PICTURE F...|\n",
            "|        536385|[TRADITIONAL CHRI...|[HOMEMADE JAM SCE...|\n",
            "|        536386|[JUMBO BAG RED RE...|[JUMBO SHOPPER VI...|\n",
            "+--------------+--------------------+--------------------+\n",
            "only showing top 20 rows\n",
            "\n"
          ]
        }
      ]
    }
  ]
}